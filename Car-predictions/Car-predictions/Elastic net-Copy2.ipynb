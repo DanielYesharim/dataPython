{
 "cells": [
  {
   "cell_type": "markdown",
   "id": "7c551061-3710-43bb-8267-2e2e1278c9fe",
   "metadata": {},
   "source": [
    "##  Elastic net Project: Predicting car Prices \n",
    " * Shiraz Hemo - 207487406\n",
    " * Daniel Yesharim-212357776\n",
    " * LINK TO GITHUB- https://github.com/DanielYesharim/dataPython"
   ]
  },
  {
   "cell_type": "code",
   "execution_count": 3,
   "id": "7e04086b-37d0-4ca8-8732-570762a4e1e3",
   "metadata": {},
   "outputs": [],
   "source": [
    "import pandas as pd\n",
    "import numpy as np\n",
    "from sklearn.model_selection import train_test_split, cross_val_score\n",
    "from sklearn.linear_model import ElasticNet\n",
    "from sklearn.metrics import mean_squared_error\n",
    "from sklearn.preprocessing import StandardScaler, OneHotEncoder\n",
    "from sklearn.compose import ColumnTransformer\n",
    "from sklearn.pipeline import Pipeline"
   ]
  },
  {
   "cell_type": "markdown",
   "id": "3c032b9c-280f-4305-b20f-aab0643a6365",
   "metadata": {},
   "source": [
    "##  Call Data "
   ]
  },
  {
   "cell_type": "code",
   "execution_count": 4,
   "id": "61fdd50e",
   "metadata": {},
   "outputs": [],
   "source": [
    "df = pd.read_csv('dataset.csv')"
   ]
  },
  {
   "cell_type": "code",
   "execution_count": 5,
   "id": "d94edc94",
   "metadata": {},
   "outputs": [
    {
     "data": {
      "text/html": [
       "<div>\n",
       "<style scoped>\n",
       "    .dataframe tbody tr th:only-of-type {\n",
       "        vertical-align: middle;\n",
       "    }\n",
       "\n",
       "    .dataframe tbody tr th {\n",
       "        vertical-align: top;\n",
       "    }\n",
       "\n",
       "    .dataframe thead th {\n",
       "        text-align: right;\n",
       "    }\n",
       "</style>\n",
       "<table border=\"1\" class=\"dataframe\">\n",
       "  <thead>\n",
       "    <tr style=\"text-align: right;\">\n",
       "      <th></th>\n",
       "      <th>manufactor</th>\n",
       "      <th>Year</th>\n",
       "      <th>model</th>\n",
       "      <th>Hand</th>\n",
       "      <th>Gear</th>\n",
       "      <th>capacity_Engine</th>\n",
       "      <th>Engine_type</th>\n",
       "      <th>Prev_ownership</th>\n",
       "      <th>Curr_ownership</th>\n",
       "      <th>Area</th>\n",
       "      <th>City</th>\n",
       "      <th>Price</th>\n",
       "      <th>Pic_num</th>\n",
       "      <th>Cre_date</th>\n",
       "      <th>Repub_date</th>\n",
       "      <th>Description</th>\n",
       "      <th>Color</th>\n",
       "      <th>Km</th>\n",
       "      <th>Test</th>\n",
       "      <th>Supply_score</th>\n",
       "    </tr>\n",
       "  </thead>\n",
       "  <tbody>\n",
       "    <tr>\n",
       "      <th>0</th>\n",
       "      <td>יונדאי</td>\n",
       "      <td>2015</td>\n",
       "      <td>i35</td>\n",
       "      <td>2</td>\n",
       "      <td>אוטומטית</td>\n",
       "      <td>1600</td>\n",
       "      <td>בנזין</td>\n",
       "      <td>פרטית</td>\n",
       "      <td>פרטית</td>\n",
       "      <td>רעננה - כפר סבא</td>\n",
       "      <td>רעננה</td>\n",
       "      <td>51000.0</td>\n",
       "      <td>2.0</td>\n",
       "      <td>11/07/2023</td>\n",
       "      <td>11/07/2023</td>\n",
       "      <td>['רכב שמור בקנאות\\nמוכרת עקב קבלת רכב חברה']</td>\n",
       "      <td>כחול כהה מטאלי</td>\n",
       "      <td>144000</td>\n",
       "      <td>NaN</td>\n",
       "      <td>NaN</td>\n",
       "    </tr>\n",
       "    <tr>\n",
       "      <th>1</th>\n",
       "      <td>ניסאן</td>\n",
       "      <td>2018</td>\n",
       "      <td>ניסאן מיקרה</td>\n",
       "      <td>1</td>\n",
       "      <td>אוטומטית</td>\n",
       "      <td>1200</td>\n",
       "      <td>בנזין</td>\n",
       "      <td>פרטית</td>\n",
       "      <td>פרטית</td>\n",
       "      <td>מושבים בשרון</td>\n",
       "      <td>אבן יהודה</td>\n",
       "      <td>49000.0</td>\n",
       "      <td>0.0</td>\n",
       "      <td>06/04/2022</td>\n",
       "      <td>22/05/2022</td>\n",
       "      <td>['שמורה כל התוספות']</td>\n",
       "      <td>כחול בהיר</td>\n",
       "      <td>69000</td>\n",
       "      <td>NaN</td>\n",
       "      <td>NaN</td>\n",
       "    </tr>\n",
       "    <tr>\n",
       "      <th>2</th>\n",
       "      <td>סוזוקי</td>\n",
       "      <td>2010</td>\n",
       "      <td>סוזוקי סוויפט</td>\n",
       "      <td>1</td>\n",
       "      <td>אוטומטית</td>\n",
       "      <td>1450</td>\n",
       "      <td>בנזין</td>\n",
       "      <td>NaN</td>\n",
       "      <td>NaN</td>\n",
       "      <td>רמת</td>\n",
       "      <td>רמת</td>\n",
       "      <td>22500.0</td>\n",
       "      <td>1.0</td>\n",
       "      <td>29/10/2022</td>\n",
       "      <td>29/10/2022</td>\n",
       "      <td>['רכב במצב מתוחזק ברמה גבוהה טסט עד אפריל 2023']</td>\n",
       "      <td>NaN</td>\n",
       "      <td>145000</td>\n",
       "      <td>NaN</td>\n",
       "      <td>NaN</td>\n",
       "    </tr>\n",
       "    <tr>\n",
       "      <th>3</th>\n",
       "      <td>טויוטה</td>\n",
       "      <td>2016</td>\n",
       "      <td>אוריס</td>\n",
       "      <td>1</td>\n",
       "      <td>טיפטרוניק</td>\n",
       "      <td>1600</td>\n",
       "      <td>בנזין</td>\n",
       "      <td>פרטית</td>\n",
       "      <td>פרטית</td>\n",
       "      <td>נס ציונה - רחובות</td>\n",
       "      <td>רחובות</td>\n",
       "      <td>63000.0</td>\n",
       "      <td>5.0</td>\n",
       "      <td>16/05/2024</td>\n",
       "      <td>16/05/2024</td>\n",
       "      <td>['אוטו במצב חדש!! שמור בקנאות!! נהג יחיד מטופל...</td>\n",
       "      <td>אפור מטאלי</td>\n",
       "      <td>27300</td>\n",
       "      <td>NaN</td>\n",
       "      <td>NaN</td>\n",
       "    </tr>\n",
       "    <tr>\n",
       "      <th>4</th>\n",
       "      <td>קיה</td>\n",
       "      <td>2012</td>\n",
       "      <td>פיקנטו</td>\n",
       "      <td>1</td>\n",
       "      <td>אוטומטית</td>\n",
       "      <td>1248</td>\n",
       "      <td>בנזין</td>\n",
       "      <td>NaN</td>\n",
       "      <td>NaN</td>\n",
       "      <td>ראשל\"צ והסביבה</td>\n",
       "      <td>ראשון לציון</td>\n",
       "      <td>37000.0</td>\n",
       "      <td>1.0</td>\n",
       "      <td>13/06/2022</td>\n",
       "      <td>13/06/2022</td>\n",
       "      <td>['שמור']</td>\n",
       "      <td>NaN</td>\n",
       "      <td>70000</td>\n",
       "      <td>NaN</td>\n",
       "      <td>4.0</td>\n",
       "    </tr>\n",
       "  </tbody>\n",
       "</table>\n",
       "</div>"
      ],
      "text/plain": [
       "  manufactor  Year          model  Hand       Gear capacity_Engine  \\\n",
       "0     יונדאי  2015            i35     2   אוטומטית            1600   \n",
       "1      ניסאן  2018    ניסאן מיקרה     1   אוטומטית            1200   \n",
       "2     סוזוקי  2010  סוזוקי סוויפט     1   אוטומטית            1450   \n",
       "3     טויוטה  2016          אוריס     1  טיפטרוניק            1600   \n",
       "4        קיה  2012         פיקנטו     1   אוטומטית            1248   \n",
       "\n",
       "  Engine_type Prev_ownership Curr_ownership               Area         City  \\\n",
       "0       בנזין          פרטית          פרטית    רעננה - כפר סבא        רעננה   \n",
       "1       בנזין          פרטית          פרטית       מושבים בשרון    אבן יהודה   \n",
       "2       בנזין            NaN            NaN                רמת          רמת   \n",
       "3       בנזין          פרטית          פרטית  נס ציונה - רחובות       רחובות   \n",
       "4       בנזין            NaN            NaN     ראשל\"צ והסביבה  ראשון לציון   \n",
       "\n",
       "     Price  Pic_num    Cre_date  Repub_date  \\\n",
       "0  51000.0      2.0  11/07/2023  11/07/2023   \n",
       "1  49000.0      0.0  06/04/2022  22/05/2022   \n",
       "2  22500.0      1.0  29/10/2022  29/10/2022   \n",
       "3  63000.0      5.0  16/05/2024  16/05/2024   \n",
       "4  37000.0      1.0  13/06/2022  13/06/2022   \n",
       "\n",
       "                                         Description           Color      Km  \\\n",
       "0       ['רכב שמור בקנאות\\nמוכרת עקב קבלת רכב חברה']  כחול כהה מטאלי  144000   \n",
       "1                               ['שמורה כל התוספות']       כחול בהיר   69000   \n",
       "2   ['רכב במצב מתוחזק ברמה גבוהה טסט עד אפריל 2023']             NaN  145000   \n",
       "3  ['אוטו במצב חדש!! שמור בקנאות!! נהג יחיד מטופל...      אפור מטאלי   27300   \n",
       "4                                           ['שמור']             NaN   70000   \n",
       "\n",
       "  Test  Supply_score  \n",
       "0  NaN           NaN  \n",
       "1  NaN           NaN  \n",
       "2  NaN           NaN  \n",
       "3  NaN           NaN  \n",
       "4  NaN           4.0  "
      ]
     },
     "execution_count": 5,
     "metadata": {},
     "output_type": "execute_result"
    }
   ],
   "source": [
    "df.head()"
   ]
  },
  {
   "cell_type": "markdown",
   "id": "ac91aaf6",
   "metadata": {},
   "source": [
    "## Exploratory Data Analysis"
   ]
  },
  {
   "cell_type": "code",
   "execution_count": 6,
   "id": "d733c477",
   "metadata": {
    "scrolled": true
   },
   "outputs": [
    {
     "name": "stdout",
     "output_type": "stream",
     "text": [
      "<class 'pandas.core.frame.DataFrame'>\n",
      "RangeIndex: 1500 entries, 0 to 1499\n",
      "Data columns (total 20 columns):\n",
      " #   Column           Non-Null Count  Dtype  \n",
      "---  ------           --------------  -----  \n",
      " 0   manufactor       1500 non-null   object \n",
      " 1   Year             1500 non-null   int64  \n",
      " 2   model            1500 non-null   object \n",
      " 3   Hand             1500 non-null   int64  \n",
      " 4   Gear             1499 non-null   object \n",
      " 5   capacity_Engine  1474 non-null   object \n",
      " 6   Engine_type      1495 non-null   object \n",
      " 7   Prev_ownership   771 non-null    object \n",
      " 8   Curr_ownership   772 non-null    object \n",
      " 9   Area             1351 non-null   object \n",
      " 10  City             1500 non-null   object \n",
      " 11  Price            1500 non-null   float64\n",
      " 12  Pic_num          1476 non-null   float64\n",
      " 13  Cre_date         1500 non-null   object \n",
      " 14  Repub_date       1500 non-null   object \n",
      " 15  Description      1500 non-null   object \n",
      " 16  Color            730 non-null    object \n",
      " 17  Km               1411 non-null   object \n",
      " 18  Test             132 non-null    object \n",
      " 19  Supply_score     439 non-null    float64\n",
      "dtypes: float64(3), int64(2), object(15)\n",
      "memory usage: 234.5+ KB\n"
     ]
    }
   ],
   "source": [
    "df.info()"
   ]
  },
  {
   "cell_type": "code",
   "execution_count": 7,
   "id": "892d3e7f",
   "metadata": {},
   "outputs": [
    {
     "data": {
      "text/html": [
       "<div>\n",
       "<style scoped>\n",
       "    .dataframe tbody tr th:only-of-type {\n",
       "        vertical-align: middle;\n",
       "    }\n",
       "\n",
       "    .dataframe tbody tr th {\n",
       "        vertical-align: top;\n",
       "    }\n",
       "\n",
       "    .dataframe thead th {\n",
       "        text-align: right;\n",
       "    }\n",
       "</style>\n",
       "<table border=\"1\" class=\"dataframe\">\n",
       "  <thead>\n",
       "    <tr style=\"text-align: right;\">\n",
       "      <th></th>\n",
       "      <th>Year</th>\n",
       "      <th>Hand</th>\n",
       "      <th>Price</th>\n",
       "      <th>Pic_num</th>\n",
       "      <th>Supply_score</th>\n",
       "    </tr>\n",
       "  </thead>\n",
       "  <tbody>\n",
       "    <tr>\n",
       "      <th>count</th>\n",
       "      <td>1500.000000</td>\n",
       "      <td>1500.000000</td>\n",
       "      <td>1500.000000</td>\n",
       "      <td>1476.000000</td>\n",
       "      <td>439.000000</td>\n",
       "    </tr>\n",
       "    <tr>\n",
       "      <th>mean</th>\n",
       "      <td>2014.346000</td>\n",
       "      <td>2.349333</td>\n",
       "      <td>51085.086000</td>\n",
       "      <td>2.836721</td>\n",
       "      <td>1581.011390</td>\n",
       "    </tr>\n",
       "    <tr>\n",
       "      <th>std</th>\n",
       "      <td>3.815406</td>\n",
       "      <td>1.229217</td>\n",
       "      <td>21933.308735</td>\n",
       "      <td>3.499312</td>\n",
       "      <td>2651.323149</td>\n",
       "    </tr>\n",
       "    <tr>\n",
       "      <th>min</th>\n",
       "      <td>1983.000000</td>\n",
       "      <td>1.000000</td>\n",
       "      <td>18200.000000</td>\n",
       "      <td>0.000000</td>\n",
       "      <td>0.000000</td>\n",
       "    </tr>\n",
       "    <tr>\n",
       "      <th>25%</th>\n",
       "      <td>2012.000000</td>\n",
       "      <td>1.000000</td>\n",
       "      <td>32000.000000</td>\n",
       "      <td>1.000000</td>\n",
       "      <td>20.000000</td>\n",
       "    </tr>\n",
       "    <tr>\n",
       "      <th>50%</th>\n",
       "      <td>2015.000000</td>\n",
       "      <td>2.000000</td>\n",
       "      <td>48000.000000</td>\n",
       "      <td>1.000000</td>\n",
       "      <td>474.000000</td>\n",
       "    </tr>\n",
       "    <tr>\n",
       "      <th>75%</th>\n",
       "      <td>2017.000000</td>\n",
       "      <td>3.000000</td>\n",
       "      <td>68000.000000</td>\n",
       "      <td>4.000000</td>\n",
       "      <td>2402.000000</td>\n",
       "    </tr>\n",
       "    <tr>\n",
       "      <th>max</th>\n",
       "      <td>2023.000000</td>\n",
       "      <td>10.000000</td>\n",
       "      <td>99960.000000</td>\n",
       "      <td>40.000000</td>\n",
       "      <td>16508.000000</td>\n",
       "    </tr>\n",
       "  </tbody>\n",
       "</table>\n",
       "</div>"
      ],
      "text/plain": [
       "              Year         Hand         Price      Pic_num  Supply_score\n",
       "count  1500.000000  1500.000000   1500.000000  1476.000000    439.000000\n",
       "mean   2014.346000     2.349333  51085.086000     2.836721   1581.011390\n",
       "std       3.815406     1.229217  21933.308735     3.499312   2651.323149\n",
       "min    1983.000000     1.000000  18200.000000     0.000000      0.000000\n",
       "25%    2012.000000     1.000000  32000.000000     1.000000     20.000000\n",
       "50%    2015.000000     2.000000  48000.000000     1.000000    474.000000\n",
       "75%    2017.000000     3.000000  68000.000000     4.000000   2402.000000\n",
       "max    2023.000000    10.000000  99960.000000    40.000000  16508.000000"
      ]
     },
     "execution_count": 7,
     "metadata": {},
     "output_type": "execute_result"
    }
   ],
   "source": [
    "df.describe() # get some statistics on numeric columns"
   ]
  },
  {
   "cell_type": "code",
   "execution_count": 8,
   "id": "15fabfc1-49c9-4887-827b-528f3ccc83dc",
   "metadata": {},
   "outputs": [
    {
     "data": {
      "text/plain": [
       "manufactor          object\n",
       "Year                 int64\n",
       "model               object\n",
       "Hand                 int64\n",
       "Gear                object\n",
       "capacity_Engine     object\n",
       "Engine_type         object\n",
       "Prev_ownership      object\n",
       "Curr_ownership      object\n",
       "Area                object\n",
       "City                object\n",
       "Price              float64\n",
       "Pic_num            float64\n",
       "Cre_date            object\n",
       "Repub_date          object\n",
       "Description         object\n",
       "Color               object\n",
       "Km                  object\n",
       "Test                object\n",
       "Supply_score       float64\n",
       "dtype: object"
      ]
     },
     "execution_count": 8,
     "metadata": {},
     "output_type": "execute_result"
    }
   ],
   "source": [
    "df.dtypes  "
   ]
  },
  {
   "cell_type": "code",
   "execution_count": 9,
   "id": "d0e079e3-c074-4c61-83b6-870f5d9429c0",
   "metadata": {},
   "outputs": [],
   "source": [
    "## we can see that the columns - capacity_Engine and Km are of type object, so we will change them into a int64."
   ]
  },
  {
   "cell_type": "code",
   "execution_count": 10,
   "id": "bc40a36a",
   "metadata": {},
   "outputs": [
    {
     "data": {
      "text/plain": [
       "manufactor            0\n",
       "Year                  0\n",
       "model                 0\n",
       "Hand                  0\n",
       "Gear                  1\n",
       "capacity_Engine      26\n",
       "Engine_type           5\n",
       "Prev_ownership      729\n",
       "Curr_ownership      728\n",
       "Area                149\n",
       "City                  0\n",
       "Price                 0\n",
       "Pic_num              24\n",
       "Cre_date              0\n",
       "Repub_date            0\n",
       "Description           0\n",
       "Color               770\n",
       "Km                   89\n",
       "Test               1368\n",
       "Supply_score       1061\n",
       "dtype: int64"
      ]
     },
     "execution_count": 10,
     "metadata": {},
     "output_type": "execute_result"
    }
   ],
   "source": [
    "df.isna().sum() #all the missing valus in etch coulmes"
   ]
  },
  {
   "cell_type": "code",
   "execution_count": 11,
   "id": "7798d779-0e09-4f92-9139-46e34eda5307",
   "metadata": {},
   "outputs": [],
   "source": [
    "## we will remove the data with large number of null."
   ]
  },
  {
   "cell_type": "code",
   "execution_count": 12,
   "id": "d6f8a501",
   "metadata": {},
   "outputs": [
    {
     "data": {
      "text/plain": [
       "capacity_Engine\n",
       "1600     227\n",
       "2000     180\n",
       "1400     138\n",
       "1200     135\n",
       "1800     113\n",
       "1500      92\n",
       "1000      65\n",
       "1,400     46\n",
       "1250      35\n",
       "1300      34\n",
       "1248      33\n",
       "1,200     32\n",
       "2500      25\n",
       "1,800     19\n",
       "1,600     14\n",
       "4500      12\n",
       "1,500     10\n",
       "2,000      9\n",
       "1598       9\n",
       "1798       9\n",
       "Name: count, dtype: int64"
      ]
     },
     "execution_count": 12,
     "metadata": {},
     "output_type": "execute_result"
    }
   ],
   "source": [
    "df.capacity_Engine.value_counts().head(20)"
   ]
  },
  {
   "cell_type": "code",
   "execution_count": 13,
   "id": "8078eeca-c53e-427e-ab93-7deddf8b6e5d",
   "metadata": {},
   "outputs": [],
   "source": [
    "## we can see that some values contain , in numbers. "
   ]
  },
  {
   "cell_type": "code",
   "execution_count": 14,
   "id": "a8d7c3ec",
   "metadata": {},
   "outputs": [
    {
     "data": {
      "text/plain": [
       "Km\n",
       "180000     27\n",
       "200000     26\n",
       "90000      24\n",
       "130000     23\n",
       "170000     21\n",
       "           ..\n",
       "195100      1\n",
       "330000      1\n",
       "148600      1\n",
       "121,200     1\n",
       "163899      1\n",
       "Name: count, Length: 470, dtype: int64"
      ]
     },
     "execution_count": 14,
     "metadata": {},
     "output_type": "execute_result"
    }
   ],
   "source": [
    "df.Km.value_counts()"
   ]
  },
  {
   "cell_type": "code",
   "execution_count": 15,
   "id": "fffe706e-7635-47af-90a2-f3277d3cdcb4",
   "metadata": {},
   "outputs": [],
   "source": [
    "## we can see that some values contain , in numbers. "
   ]
  },
  {
   "cell_type": "code",
   "execution_count": 16,
   "id": "e96b4d34-73e1-48d7-9bca-11bdb8eb161c",
   "metadata": {},
   "outputs": [
    {
     "data": {
      "text/plain": [
       "manufactor\n",
       "מאזדה          172\n",
       "קיה            167\n",
       "יונדאי         135\n",
       "פולקסווגן      128\n",
       "סקודה          120\n",
       "הונדה          119\n",
       "טויוטה          96\n",
       "סוזוקי          65\n",
       "אאודי           64\n",
       "שברולט          61\n",
       "אופל            42\n",
       "מיצובישי        40\n",
       "סיטרואן         38\n",
       "סובארו          37\n",
       "ניסאן           32\n",
       "ב.מ.וו          32\n",
       "רנו             28\n",
       "מרצדס           24\n",
       "פיג'ו           20\n",
       "פורד            18\n",
       "וולוו           13\n",
       "דייהטסו         11\n",
       "מיני             9\n",
       "Lexsus           8\n",
       "אלפא רומיאו      8\n",
       "לקסוס            7\n",
       "קרייזלר          6\n",
       "Name: count, dtype: int64"
      ]
     },
     "execution_count": 16,
     "metadata": {},
     "output_type": "execute_result"
    }
   ],
   "source": [
    "df.manufactor.value_counts()"
   ]
  },
  {
   "cell_type": "code",
   "execution_count": 17,
   "id": "2bdf46f3-36c4-42a7-8e0c-f68e03fb490c",
   "metadata": {},
   "outputs": [],
   "source": [
    "## we can see that there is Lexsus type and 'לקסוס' type.  "
   ]
  },
  {
   "cell_type": "code",
   "execution_count": 18,
   "id": "33fb1570-281f-4930-afa4-838f72634836",
   "metadata": {},
   "outputs": [
    {
     "data": {
      "text/plain": [
       "Engine_type\n",
       "בנזין         1346\n",
       "דיזל            51\n",
       "היבריד          35\n",
       "היברידי         27\n",
       "גז              25\n",
       "טורבו דיזל       8\n",
       "חשמלי            3\n",
       "Name: count, dtype: int64"
      ]
     },
     "execution_count": 18,
     "metadata": {},
     "output_type": "execute_result"
    }
   ],
   "source": [
    "df.Engine_type.value_counts()"
   ]
  },
  {
   "cell_type": "code",
   "execution_count": 19,
   "id": "4b293eb8-7942-4ba8-9080-67bdad65bca3",
   "metadata": {},
   "outputs": [],
   "source": [
    "## same as manufactor. we will combine 'היבריד' coulom and היברידי colom."
   ]
  },
  {
   "cell_type": "markdown",
   "id": "d49b24ae",
   "metadata": {},
   "source": [
    "## Prepare data (feature engineering)\n",
    "###  נבצע הכנה של הנתונים לטובת מודל חיזוי המחיר\n",
    "\n",
    "* נשנה את הערכים הלא מספריים בעמודות קילומטר ונפח מנוע לערכים מספריים\n",
    "\n",
    "* נסדר את השמות הלא תואמים בעמודות של מודל ויצרן\n",
    "\n",
    "* (נמחוק עמודות עם הרבה ערכים חסרים או עמודות שלא משפיעות על המודל- (לפי מה שראינו בבדיקות חוזרות של תוצאות המודל \n",
    "\n",
    "* נשתמש בפייפיליין על מנת להכין את הנתונים להכנסה למודל לימוד\n",
    "\n",
    "* נשלב את הפעולות השונות לפי סוגי העמודות: מספריות וקטגוריאליות\n",
    "\n",
    "* לבסוף נכין את נתוני בקלט והיעד\n",
    "\n",
    "* לאחר מכן ביצענו בדיקת פיצרים על ידי בדיקת קרולציה בין הפיצרים לעמודת המחיר\n",
    "* בבדיקת פיצרים בחרנו במדד שפיצר שלא עומד בו לא נכנס לדאטה  המוכן\n",
    "\n"
   ]
  },
  {
   "cell_type": "code",
   "execution_count": null,
   "id": "8f02726b",
   "metadata": {},
   "outputs": [
    {
     "ename": "",
     "evalue": "",
     "output_type": "error",
     "traceback": [
      "\u001b[1;31mRunning cells with '/Library/Frameworks/Python.framework/Versions/3.12/bin/python3' requires the ipykernel package.\n",
      "\u001b[1;31mRun the following command to install 'ipykernel' into the Python environment. \n",
      "\u001b[1;31mCommand: '/Library/Frameworks/Python.framework/Versions/3.12/bin/python3 -m pip install ipykernel -U --user --force-reinstall'"
     ]
    }
   ],
   "source": [
    "import pandas as pd\n",
    "import numpy as np\n",
    "from sklearn.impute import SimpleImputer\n",
    "from sklearn.preprocessing import StandardScaler, OneHotEncoder\n",
    "from sklearn.compose import ColumnTransformer\n",
    "from sklearn.pipeline import Pipeline\n",
    "\n",
    "def prepare_data(df):\n",
    "\n",
    "\n",
    "    # Replace commas and handle non-numeric values for 'Km' and 'capacity_Engine' \n",
    "    def convert_to_float(value):\n",
    "        try:\n",
    "            return float(value.replace(',', ''))\n",
    "        except:\n",
    "            return np.nan\n",
    "    \n",
    "    # Apply the conversion function to 'Km' and 'capacity_Engine'\n",
    "    df['Km'] = df['Km'].apply(convert_to_float)\n",
    "    df['capacity_Engine'] = df['capacity_Engine'].apply(convert_to_float)\n",
    "    \n",
    "    # Fixing manufacturer and Engine_type names\n",
    "    df['manufactor'] = df['manufactor'].replace('Lexsus', 'לקסוס')\n",
    "    df['Engine_type']= df['Engine_type'].replace('היברידי', 'היבריד')\n",
    "\n",
    "     # Drop columns with excessive missing values or less efect on the modal\n",
    "    df.drop(columns=['Prev_ownership', 'Curr_ownership', 'Test', 'Pic_num', 'Cre_date', 'Repub_date', 'Description'], inplace=True)\n",
    "\n",
    "    # Define numerical columns\n",
    "    numerical_columns = ['Year', 'Hand', 'Km', 'capacity_Engine', 'Supply_score',]\n",
    "\n",
    "    # Define categorical columns\n",
    "    categorical_columns = ['manufactor', 'Gear', 'Engine_type', 'model', 'Color','Area','City']\n",
    "\n",
    "    # Create preprocessing pipeline for numerical and categorical features\n",
    "    numeric_transformer = Pipeline(steps=[\n",
    "        ('imputer', SimpleImputer(strategy='mean')),\n",
    "        ('scaler', StandardScaler())\n",
    "    ])\n",
    "\n",
    "    categorical_transformer = Pipeline(steps=[\n",
    "        ('imputer', SimpleImputer(strategy='most_frequent')),\n",
    "        ('onehot', OneHotEncoder(handle_unknown='ignore', sparse_output=False))\n",
    "    ])\n",
    "\n",
    "    # Combine preprocessing steps using ColumnTransformer\n",
    "    preprocessor = ColumnTransformer(\n",
    "        transformers=[\n",
    "            ('num', numeric_transformer, numerical_columns),\n",
    "            ('cat', categorical_transformer, categorical_columns)\n",
    "        ])\n",
    "\n",
    "    # Prepare features and target variable\n",
    "    X = df.drop(columns=['Price'])\n",
    "    y = df['Price']\n",
    "\n",
    "    # Transform the data\n",
    "    X_prepared = preprocessor.fit_transform(X)\n",
    "\n",
    "    # Get feature names for the transformed data\n",
    "    num_features = numerical_columns\n",
    "    cat_features = preprocessor.named_transformers_['cat'].named_steps['onehot'].get_feature_names_out(categorical_columns)\n",
    "    all_features = np.concatenate([num_features, cat_features])\n",
    "\n",
    "    # Create a DataFrame with the transformed data\n",
    "    df_prepared = pd.DataFrame(X_prepared, columns=all_features)\n",
    "\n",
    "     # Add the target variable 'Price' back to the DataFrame\n",
    "    df_prepared['Price'] = y\n",
    "    \n",
    "    # Calculate correlation matrix, to check which columns to keep\n",
    "    corr_matrix = df_prepared.corr()\n",
    "\n",
    "    # Select columns with correlation higher than a threshold with 'Price'\n",
    "    threshold = 0.005\n",
    "    high_corr_columns = corr_matrix[abs(corr_matrix['Price']) > threshold].index\n",
    "\n",
    "    # Filter all_features to keep only columns with high correlation to 'Price'\n",
    "    df_prepared = df_prepared[high_corr_columns]\n",
    "    \n",
    "\n",
    "    return df_prepared\n",
    "\n",
    "\n",
    "# Load data\n",
    "df = pd.read_csv('dataset.csv')\n",
    "\n",
    "# Prepare data\n",
    "df_prepared = prepare_data(df)\n",
    "\n",
    "print(df_prepared.shape)\n"
   ]
  },
  {
   "cell_type": "markdown",
   "id": "fc71d78b",
   "metadata": {},
   "source": [
    "##  TRAINING MODEL\n",
    "\n",
    "*  נפריד בין הפיצרים לבין עמודת המחיר\n",
    "*  נחלק את הדאטה לקבוצת אימון ולקבוצת בדיקה \n",
    "*  ניצור דגם מודל ונכניס אליו את קבוצת האימון \n",
    "*  הערכה באמצעות הערכה חוזרת\n",
    "*  נזהה את התכונות עם המקדמים הכי גבוהים ונזהה את הסימנים שלהם\n",
    "\n",
    "\n"
   ]
  },
  {
   "cell_type": "code",
   "execution_count": 61,
   "id": "b1a0268e-db54-49fa-bf9e-c78f22846880",
   "metadata": {},
   "outputs": [
    {
     "name": "stdout",
     "output_type": "stream",
     "text": [
      "Cross-validation RMSE scores: [16149.68878589 17604.95974649 17747.93998978 15839.63153562\n",
      " 18336.76202046 19225.13584564 16411.52238489 19747.06198034\n",
      " 17700.30541462 19124.08513714]\n",
      "Mean RMSE: 17788.709284087432\n",
      "Top 5 features:\n",
      "Year                 6821.999901\n",
      "Km                   2741.809480\n",
      "capacity_Engine      2034.523444\n",
      "Hand                 1645.829771\n",
      "manufactor_טויוטה    1399.185014\n",
      "dtype: float64\n",
      "Sign of coefficients for top features:\n",
      "Year                 6821.999901\n",
      "Km                  -2741.809480\n",
      "capacity_Engine      2034.523444\n",
      "Hand                -1645.829771\n",
      "manufactor_טויוטה    1399.185014\n",
      "dtype: float64\n"
     ]
    }
   ],
   "source": [
    "from sklearn.model_selection import cross_val_score\n",
    "from sklearn.linear_model import ElasticNetCV, ElasticNet\n",
    "from sklearn.metrics import mean_squared_error\n",
    "import numpy as np\n",
    "\n",
    "# Separate features and target variable\n",
    "X = df_prepared.drop(columns=['Price'])\n",
    "y = df_prepared['Price']\n",
    "\n",
    "X_train, X_test, y_train, y_test = train_test_split(X, y, test_size = 0.2, random_state = 0)\n",
    "\n",
    "# Initialize ElasticNetCV model\n",
    "elasticnet_cv = ElasticNet(random_state=42)\n",
    "\n",
    "# Fit the model\n",
    "elasticnet_cv, X_train, y_train\n",
    "elasticnet_cv.fit(X_train, y_train)\n",
    "\n",
    "# Evaluate using cross-validation\n",
    "cv_scores = cross_val_score(elasticnet_cv, X_train, y_train, cv=10, scoring='neg_mean_squared_error')\n",
    "cv_rmse_scores = np.sqrt(-cv_scores)\n",
    "print(f'Cross-validation RMSE scores: {cv_rmse_scores}')\n",
    "print(f'Mean RMSE: {cv_rmse_scores.mean()}')\n",
    "\n",
    "# Identify top 5 features with highest coefficients\n",
    "coef_abs = pd.Series(elasticnet_cv.coef_, index=X.columns).abs()\n",
    "top_features = coef_abs.nlargest(5)\n",
    "print(f'Top 5 features:\\n{top_features}')\n",
    "\n",
    "# Determine the sign of the coefficients (positive or negative impact)\n",
    "top_features_sign = pd.Series(elasticnet_cv.coef_, index=X.columns)\n",
    "print(f'Sign of coefficients for top features:\\n{top_features_sign[top_features.index]}')\n"
   ]
  },
  {
   "cell_type": "markdown",
   "id": "f13698b5-2960-45e2-835e-9f194fac0566",
   "metadata": {},
   "source": [
    "## חמשת המאפיינים הכי משפיעים הם\n",
    "\n",
    "##### Top 5 features:\n",
    "* Year                 6821.999901\n",
    "* Km                   2741.809480\n",
    "* capacity_Engine      2034.523444\n",
    "* Hand                 1645.829771\n",
    "* manufactor_טויוטה    1399.185014\n",
    "\n",
    "##### לאחר מכן בדקנו מה הסימן של כל מאפיין\n",
    "\n",
    "#### Sign of coefficients for top features:\n",
    "\n",
    "* Year                 6821.999901\n",
    "* Km                  -2741.809480\n",
    "* capacity_Engine      2034.523444\n",
    "* Hand                -1645.829771\n",
    "* manufactor_טויוטה    1399.185014\n",
    "#### כולם חיוביים חוץ ממאפיינים קילומטר ויד\n",
    "\n",
    "##### Mean RMSE: 17788.709284087432"
   ]
  }
 ],
 "metadata": {
  "kernelspec": {
   "display_name": "Python 3 (ipykernel)",
   "language": "python",
   "name": "python3"
  },
  "language_info": {
   "codemirror_mode": {
    "name": "ipython",
    "version": 3
   },
   "file_extension": ".py",
   "mimetype": "text/x-python",
   "name": "python",
   "nbconvert_exporter": "python",
   "pygments_lexer": "ipython3",
   "version": "3.12.2"
  }
 },
 "nbformat": 4,
 "nbformat_minor": 5
}
